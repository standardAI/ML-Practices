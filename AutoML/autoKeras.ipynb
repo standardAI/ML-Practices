{
 "cells": [
  {
   "cell_type": "code",
   "execution_count": null,
   "metadata": {},
   "outputs": [],
   "source": [
    "import autokeras as ak\n",
    "\n",
    "clf = ak.ImageClassifier()\n",
    "clf.fit(x_train, y_train)\n",
    "results = clf.predict(x_test)"
   ]
  },
  {
   "attachments": {},
   "cell_type": "markdown",
   "metadata": {},
   "source": [
    "### Read this: Qingquan Song, Haifeng Jin, Xia Hu - Automated Machine Learning in Action-Manning Publications (2022)"
   ]
  }
 ],
 "metadata": {
  "kernelspec": {
   "display_name": "th",
   "language": "python",
   "name": "python3"
  },
  "language_info": {
   "name": "python",
   "version": "3.9.13"
  },
  "orig_nbformat": 4,
  "vscode": {
   "interpreter": {
    "hash": "0eba0d3721dd99d5e85d92095d30b3f3baa213223e21c8471968ea015153b8df"
   }
  }
 },
 "nbformat": 4,
 "nbformat_minor": 2
}
