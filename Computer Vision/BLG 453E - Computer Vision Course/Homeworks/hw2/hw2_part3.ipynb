{
 "cells": [
  {
   "cell_type": "markdown",
   "metadata": {},
   "source": [
    "BLG 453E  - Homework 2 <br>\n",
    "Muhammed Tolga Cangöz - 150130024"
   ]
  },
  {
   "cell_type": "code",
   "execution_count": 1,
   "metadata": {},
   "outputs": [],
   "source": [
    "import pyautogui as pag\n",
    "import time\n",
    "import numpy as np\n",
    "import matplotlib.pyplot as plt\n",
    "import cv2"
   ]
  },
  {
   "cell_type": "code",
   "execution_count": 3,
   "metadata": {},
   "outputs": [],
   "source": [
    "def getContours(img, imgCont):\n",
    "    _, contours, hierarchy = cv2.findContours(img, cv2.RETR_EXTERNAL, cv2.CHAIN_APPROX_NONE)\n",
    "    \n",
    "    for cnt in contours:\n",
    "        area = cv2.contourArea(cnt)\n",
    "        if area > 1000:\n",
    "            cv2.drawContours(imgCont, cnt, -1, (255, 0, 255), 7)\n",
    "            peri = cv2.arcLength(cnt, True)\n",
    "            approx = cv2.approxPolyDP(cnt, 0.02 * peri, True)\n",
    "            print(len(approx))\n",
    "            return len(approx)"
   ]
  },
  {
   "cell_type": "code",
   "execution_count": null,
   "metadata": {},
   "outputs": [],
   "source": [
    "time.sleep(2)\n",
    "\n",
    "while True:\n",
    "    \n",
    "    myScreenshot = pag.screenshot()\n",
    "    pil_image = myScreenshot.convert('RGB')\n",
    "    open_cv_image = np.array(pil_image)\n",
    "    open_cv_image = open_cv_image[785:990, 920:1200] # focus on the area of interest\n",
    "    imgBlur = cv2.GaussianBlur(open_cv_image, (7, 7), 1)\n",
    "    imgGray = cv2.cvtColor(imgBlur, cv2.COLOR_RGB2GRAY)\n",
    "    imgCanny = cv2.Canny(imgGray, 100, 200)\n",
    "    imgDil = cv2.dilate(imgCanny, np.ones((2, 2), np.uint8), iterations=1)\n",
    "    imgContour = open_cv_image.copy()\n",
    "    \n",
    "    if 3 == getContours(imgDil, imgContour):\n",
    "        pag.press('a')\n",
    "    elif 4 == getContours(imgDil, imgContour):\n",
    "        pag.press('s')\n",
    "    elif 10 == getContours(imgDil, imgContour):\n",
    "        pag.press('d')\n",
    "    elif 6 == getContours(imgDil, imgContour):\n",
    "        pag.press('f')\n",
    "    else:\n",
    "        time.sleep(0.35)"
   ]
  },
  {
   "cell_type": "markdown",
   "metadata": {},
   "source": [
    "Vabank Result: 18-0\n",
    "\n",
    "108_160_203_101_94_249_255_151_184_199_18_183_1_53_119_116_154_169_86_216_46_245_95_249_126_2_62_221_185_137_211_31"
   ]
  },
  {
   "cell_type": "markdown",
   "metadata": {},
   "source": [
    "Shame Result: 18-0\n",
    "\n",
    "185_129_146_92_1_60_141_231_120_155_254_48_207_128_72_217_31_165_149_74_50_53_194_110_198_187_23_9_233_46_36_152_62"
   ]
  },
  {
   "cell_type": "markdown",
   "metadata": {},
   "source": [
    "Screen Resolution: 1920x1080 (16:9)"
   ]
  }
 ],
 "metadata": {
  "interpreter": {
   "hash": "ded493e77ac558c5a79f920bf5303ffe5196fd5a596f10e0f3cd289e09f67573"
  },
  "kernelspec": {
   "display_name": "Python 3.9.7 64-bit ('pt': conda)",
   "language": "python",
   "name": "python3"
  },
  "language_info": {
   "codemirror_mode": {
    "name": "ipython",
    "version": 3
   },
   "file_extension": ".py",
   "mimetype": "text/x-python",
   "name": "python",
   "nbconvert_exporter": "python",
   "pygments_lexer": "ipython3",
   "version": "3.7.12"
  },
  "orig_nbformat": 4
 },
 "nbformat": 4,
 "nbformat_minor": 2
}
