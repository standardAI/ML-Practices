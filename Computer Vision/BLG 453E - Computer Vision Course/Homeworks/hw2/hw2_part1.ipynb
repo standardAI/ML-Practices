{
 "cells": [
  {
   "cell_type": "markdown",
   "metadata": {},
   "source": [
    "BLG 453E  - Homework 2 <br>\n",
    "Muhammed Tolga Cangöz - 150130024"
   ]
  },
  {
   "cell_type": "code",
   "execution_count": 5,
   "metadata": {},
   "outputs": [],
   "source": [
    "import moviepy.video.io.VideoFileClip as vfc\n",
    "import cv2\n",
    "import matplotlib.pyplot as plt\n",
    "import moviepy.editor as mpy\n",
    "import numpy as np\n",
    "from tqdm import tqdm\n",
    "\n",
    "vid = vfc.VideoFileClip(\"shapes_video.mp4\")\n",
    "frame_count = vid.reader.nframes\n",
    "video_fps = vid.fps"
   ]
  },
  {
   "cell_type": "code",
   "execution_count": 2,
   "metadata": {},
   "outputs": [
    {
     "name": "stderr",
     "output_type": "stream",
     "text": [
      "100%|██████████| 92/92 [16:34<00:00, 10.81s/it]\n"
     ]
    }
   ],
   "source": [
    "images_list = []\n",
    "window = 2\n",
    "kernel = []\n",
    "for i in tqdm(range(frame_count)):\n",
    "    frame = vid.get_frame(i* 1.0 / video_fps)\n",
    "    new_frame = np.zeros_like(frame)\n",
    "    for j in range(frame.shape[0]):\n",
    "        for k in range(frame.shape[1]):\n",
    "            #median = np.median(frame[np.max(0, j-window):j + window, np.max(0, k-window):k + window, 0])\n",
    "            new_frame[j,k,0] = np.median(frame[max(0, j-window):j + window, max(0, k-window):k + window, 0])\n",
    "            new_frame[j,k,1] = new_frame[j,k,0] #np.median(frame[np.max(0, j-window):j + window, np.max(0, k-window):k + window, 1])\n",
    "            new_frame[j,k,2] = new_frame[j,k,0] #np.median(frame[np.max(0, j-window):j + window, np.max(0, k-window):k + window, 2])\n",
    "    images_list.append(new_frame)"
   ]
  },
  {
   "cell_type": "code",
   "execution_count": 3,
   "metadata": {},
   "outputs": [
    {
     "name": "stdout",
     "output_type": "stream",
     "text": [
      "Moviepy - Building video part1_video.mp4.\n",
      "Moviepy - Writing video part1_video.mp4\n",
      "\n"
     ]
    },
    {
     "name": "stderr",
     "output_type": "stream",
     "text": []
    },
    {
     "name": "stdout",
     "output_type": "stream",
     "text": [
      "Moviepy - Done !\n",
      "Moviepy - video ready part1_video.mp4\n"
     ]
    }
   ],
   "source": [
    "clip = mpy.ImageSequenceClip(images_list, fps=video_fps)\n",
    "clip.write_videofile('part1_video.mp4')"
   ]
  },
  {
   "cell_type": "code",
   "execution_count": null,
   "metadata": {},
   "outputs": [],
   "source": []
  },
  {
   "cell_type": "code",
   "execution_count": null,
   "metadata": {},
   "outputs": [],
   "source": []
  },
  {
   "cell_type": "code",
   "execution_count": null,
   "metadata": {},
   "outputs": [],
   "source": []
  },
  {
   "cell_type": "code",
   "execution_count": 96,
   "metadata": {},
   "outputs": [],
   "source": [
    "backSub = cv2.createBackgroundSubtractorMOG2(history=2, varThreshold=500)"
   ]
  },
  {
   "cell_type": "code",
   "execution_count": 99,
   "metadata": {},
   "outputs": [],
   "source": [
    "fgMask = backSub.apply(images_list[-29])"
   ]
  },
  {
   "cell_type": "code",
   "execution_count": 100,
   "metadata": {},
   "outputs": [
    {
     "data": {
      "text/plain": [
       "<matplotlib.image.AxesImage at 0x7fefab7a7070>"
      ]
     },
     "execution_count": 100,
     "metadata": {},
     "output_type": "execute_result"
    },
    {
     "data": {
      "image/png": "[encoded data removed]",
      "text/plain": [
       "<Figure size 432x288 with 1 Axes>"
      ]
     },
     "metadata": {
      "needs_background": "light"
     },
     "output_type": "display_data"
    }
   ],
   "source": [
    "plt.imshow(cv2.cvtColor(fgMask, cv2.COLOR_BGR2RGB))\n",
    "# I couldn't do background subtraction properly, the next card seems messy. "
   ]
  }
 ],
 "metadata": {
  "interpreter": {
   "hash": "ded493e77ac558c5a79f920bf5303ffe5196fd5a596f10e0f3cd289e09f67573"
  },
  "kernelspec": {
   "display_name": "Python 3.9.7 64-bit ('pt': conda)",
   "language": "python",
   "name": "python3"
  },
  "language_info": {
   "codemirror_mode": {
    "name": "ipython",
    "version": 3
   },
   "file_extension": ".py",
   "mimetype": "text/x-python",
   "name": "python",
   "nbconvert_exporter": "python",
   "pygments_lexer": "ipython3",
   "version": "3.7.12"
  },
  "orig_nbformat": 4
 },
 "nbformat": 4,
 "nbformat_minor": 2
}
