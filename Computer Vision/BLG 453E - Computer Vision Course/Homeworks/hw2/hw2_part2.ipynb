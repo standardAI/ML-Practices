{
 "cells": [
  {
   "cell_type": "markdown",
   "metadata": {},
   "source": [
    "BLG 453E  - Homework 2 <br>\n",
    "Muhammed Tolga Cangöz - 150130024"
   ]
  },
  {
   "cell_type": "code",
   "execution_count": null,
   "metadata": {},
   "outputs": [],
   "source": [
    "import pickle\n",
    "import matplotlib.pyplot as plt\n",
    "import torch as th\n",
    "import cv2\n",
    "import numpy as np\n",
    "import moviepy.editor as mpy\n",
    "\n",
    "\n",
    "with open(\"stylegan3-t-ffhq-1024x1024.pkl\", \"rb\") as f:\n",
    "    G = pickle.load(f)['G_ema'].cuda()\n",
    "\n",
    "G.eval()\n",
    "\n",
    "for param in G.parameters():\n",
    "    param.requires_grad = False"
   ]
  },
  {
   "cell_type": "code",
   "execution_count": null,
   "metadata": {},
   "outputs": [],
   "source": [
    "G.synthesis.num_fp16_res = 0\n",
    "\n",
    "for name, layer in G.synthesis.named_modules():\n",
    "    if hasattr(layer, 'conv_clamp'):\n",
    "      layer.conv_clamp = None\n",
    "      layer.use_fp16 = False"
   ]
  },
  {
   "cell_type": "code",
   "execution_count": null,
   "metadata": {},
   "outputs": [],
   "source": [
    "z1 = th.randn([1, G.z_dim]).cuda()"
   ]
  },
  {
   "cell_type": "code",
   "execution_count": null,
   "metadata": {},
   "outputs": [],
   "source": [
    "z2 = th.randn([1, G.z_dim]).cuda()"
   ]
  },
  {
   "cell_type": "code",
   "execution_count": null,
   "metadata": {},
   "outputs": [],
   "source": [
    "img1 = G(z1, 0).cpu().numpy().squeeze()"
   ]
  },
  {
   "cell_type": "code",
   "execution_count": null,
   "metadata": {},
   "outputs": [],
   "source": [
    "img2 = G(z2, 0).cpu().numpy().squeeze()"
   ]
  },
  {
   "cell_type": "code",
   "execution_count": null,
   "metadata": {},
   "outputs": [],
   "source": [
    "img1 = np.transpose(img1, (1, 2, 0))\n",
    "img2 = np.transpose(img2, (1, 2, 0))"
   ]
  },
  {
   "cell_type": "code",
   "execution_count": null,
   "metadata": {},
   "outputs": [],
   "source": [
    "img1[img1 > 1] = 1\n",
    "img1[img1 < -1] = -1\n",
    "img1 = 255*(img1 + 1) / 2\n",
    "\n",
    "cv2.imwrite(\"test1.png\", img1[:,:,[2,1,0]])"
   ]
  },
  {
   "cell_type": "code",
   "execution_count": null,
   "metadata": {},
   "outputs": [],
   "source": [
    "img2[img2 > 1] = 1\n",
    "img2[img2 < -1] = -1\n",
    "img2 = 255*(img2 + 1) / 2\n",
    "\n",
    "cv2.imwrite(\"test2.png\", img2[:,:,[2,1,0]])"
   ]
  },
  {
   "cell_type": "code",
   "execution_count": null,
   "metadata": {},
   "outputs": [],
   "source": [
    "images_list = []\n",
    "for i in range(101):\n",
    "    z3 = ((100-i)/100)*z1 + (i/100)*z2\n",
    "    img3 = G(z3, 0).cpu().numpy().squeeze()\n",
    "    img3 = np.transpose(img3, (1, 2, 0))\n",
    "    img3[img3 > 1] = 1\n",
    "    img3[img3 < -1] = -1\n",
    "    img3 = 255*(img3 + 1) / 2\n",
    "    images_list.append(img3[:,:,[2,1,0]].astype(np.uint8))"
   ]
  },
  {
   "cell_type": "code",
   "execution_count": null,
   "metadata": {},
   "outputs": [],
   "source": [
    "#import pickle\n",
    "\n",
    "#with open(\"images_list.txt\", \"wb\") as fp:\n",
    "#    pickle.dump(images_list, fp)\n",
    "\n",
    "#with open(\"images_list.txt\", \"rb\") as fp:\n",
    "#    b = pickle.load(fp)"
   ]
  },
  {
   "cell_type": "code",
   "execution_count": null,
   "metadata": {},
   "outputs": [],
   "source": [
    "clip = mpy.ImageSequenceClip(images_list, fps=10)\n",
    "clip.write_videofile('part2_video.mp4')"
   ]
  }
 ],
 "metadata": {
  "interpreter": {
   "hash": "ded493e77ac558c5a79f920bf5303ffe5196fd5a596f10e0f3cd289e09f67573"
  },
  "kernelspec": {
   "display_name": "Python 3.9.7 64-bit ('pt': conda)",
   "language": "python",
   "name": "python3"
  },
  "language_info": {
   "codemirror_mode": {
    "name": "ipython",
    "version": 3
   },
   "file_extension": ".py",
   "mimetype": "text/x-python",
   "name": "python",
   "nbconvert_exporter": "python",
   "pygments_lexer": "ipython3",
   "version": "3.7.12"
  },
  "orig_nbformat": 4
 },
 "nbformat": 4,
 "nbformat_minor": 2
}
