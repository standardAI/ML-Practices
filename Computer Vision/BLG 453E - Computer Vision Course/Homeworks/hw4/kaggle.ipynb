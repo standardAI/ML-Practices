{
 "cells": [
  {
   "cell_type": "markdown",
   "metadata": {},
   "source": [
    "BLG 453E - Computer Vision<br>Homework 4<br>Muhammed Tolga Cangöz<br>150130024"
   ]
  },
  {
   "cell_type": "code",
   "execution_count": 31,
   "metadata": {},
   "outputs": [],
   "source": [
    "from PIL import Image\n",
    "from torchvision import transforms\n",
    "import torch\n",
    "import torchvision.models as models\n",
    "import os, glob\n",
    "import numpy as np\n",
    "import csv\n",
    "\n",
    "def obtain_features(model, img):\n",
    "\tpreprocess = transforms.Compose([\n",
    "\t\ttransforms.Resize(256),\n",
    "\t\ttransforms.CenterCrop(224),\n",
    "\t\ttransforms.ToTensor(),\n",
    "\t\ttransforms.Normalize(mean=[0.485, 0.456, 0.406], std=[0.229, 0.224, 0.225]),\n",
    "\t])\n",
    "\tinput_tensor = preprocess(img)\n",
    "\tinput_batch = input_tensor.unsqueeze(0)\n",
    "\n",
    "\twith torch.no_grad():\n",
    "\t\toutput = model(input_batch.cuda())\n",
    "\n",
    "\n",
    "\treturn output\n",
    "\n",
    "\n",
    "def prepare_train_from_folder(dir, model):\n",
    "\n",
    "\timg_count = len(glob.glob(dir +'/*/*.JPEG'))\n",
    "\n",
    "\ttrain_folders = sorted(os.listdir(dir))\n",
    "\n",
    "\ttrain = np.zeros((img_count, 4096))\n",
    "\ttrain_labels = np.zeros((img_count,))\n",
    "\n",
    "\tcounter = 0\n",
    "\n",
    "\tfor i in range(len(train_folders)):\n",
    "\t\tall_imgs = os.listdir(dir + '/' + train_folders[i])\n",
    "\n",
    "\t\tfor j in range(len(all_imgs)):\n",
    "\t\t\timg = Image.open(dir + '/' + train_folders[i] + '/' + all_imgs[j])\n",
    "\t\t\timg = img.convert('RGB')\n",
    "\n",
    "\t\t\tfeatures = obtain_features(model, img)\n",
    "\n",
    "\t\t\ttrain[counter, :] = features.cpu().numpy()\n",
    "\t\t\ttrain_labels[counter] = i\n",
    "\n",
    "\t\t\tcounter += 1\n",
    "\n",
    "\treturn train, train_labels\n",
    "\n",
    "\n",
    "def prepare_test_from_folder(dir, model):\n",
    "\n",
    "\timg_count = len(glob.glob(dir + '/*.JPEG'))\n",
    "\n",
    "\ttest_files = sorted(os.listdir(dir))\n",
    "\n",
    "\ttest = np.zeros((img_count, 4096))\n",
    "\ttest_names = []\n",
    "\n",
    "\tcounter = 0\n",
    "\n",
    "\tfor i in range(len(test_files)):\n",
    "\t\timg = Image.open(dir +  '/' + test_files[i])\n",
    "\t\timg = img.convert('RGB')\n",
    "\n",
    "\t\tfeatures = obtain_features(model, img)\n",
    "\n",
    "\t\ttest[counter, :] = features.cpu().numpy()\n",
    "\t\tcounter += 1\n",
    "\n",
    "\t\ttest_names.append(test_files[i])\n",
    "\n",
    "\treturn test, test_names\n",
    "\n",
    "\n",
    "\n",
    "\n",
    "train_dir = 'imagenet_50/train'\n",
    "test_dir = 'imagenet_50/test/imgs'"
   ]
  },
  {
   "cell_type": "code",
   "execution_count": null,
   "metadata": {},
   "outputs": [],
   "source": [
    "model = torch.load('model_2.pth')\n",
    "model.cuda().eval()"
   ]
  },
  {
   "cell_type": "code",
   "execution_count": 3,
   "metadata": {},
   "outputs": [],
   "source": [
    "test1, test_names = prepare_test_from_folder(test_dir, model)\n",
    "\n",
    "train1, train_labels = prepare_train_from_folder(train_dir, model)"
   ]
  },
  {
   "cell_type": "code",
   "execution_count": 32,
   "metadata": {},
   "outputs": [],
   "source": [
    "test2, test_names = prepare_test_from_folder(test_dir, model)\n",
    "\n",
    "train2, train_labels = prepare_train_from_folder(train_dir, model)"
   ]
  },
  {
   "cell_type": "code",
   "execution_count": 4,
   "metadata": {},
   "outputs": [
    {
     "data": {
      "text/plain": [
       "(50000, 512)"
      ]
     },
     "execution_count": 4,
     "metadata": {},
     "output_type": "execute_result"
    }
   ],
   "source": [
    "# Model_1.pth-only submission due to the limited computing power, but other models will be used later as well for the final submission.\n",
    "test1.shape"
   ]
  },
  {
   "cell_type": "code",
   "execution_count": 10,
   "metadata": {},
   "outputs": [],
   "source": [
    "import os\n",
    "names = sorted(os.listdir(\"imagenet_50/train\"))"
   ]
  },
  {
   "cell_type": "code",
   "execution_count": 26,
   "metadata": {},
   "outputs": [
    {
     "data": {
      "text/plain": [
       "(35000, 512)"
      ]
     },
     "execution_count": 26,
     "metadata": {},
     "output_type": "execute_result"
    }
   ],
   "source": [
    "train1.shape"
   ]
  },
  {
   "cell_type": "code",
   "execution_count": 22,
   "metadata": {},
   "outputs": [],
   "source": [
    "from sklearnex import patch_sklearn\n",
    "patch_sklearn()\n",
    "\n",
    "from sklearn.neighbors import KNeighborsClassifier\n",
    "\n",
    "from sklearn.decomposition import PCA\n",
    "pca = PCA(n_components=300)\n",
    "pca.fit(train1)\n",
    "train1_pca = pca.transform(train1)\n",
    "test1_pca = pca.transform(test1)"
   ]
  },
  {
   "cell_type": "code",
   "execution_count": 27,
   "metadata": {},
   "outputs": [],
   "source": [
    "from sklearn import preprocessing\n",
    "scaler = preprocessing.StandardScaler().fit(train1)\n",
    "train1_scaled = scaler.transform(train1)\n",
    "test1_scaled = scaler.transform(test1)"
   ]
  },
  {
   "cell_type": "code",
   "execution_count": 28,
   "metadata": {},
   "outputs": [],
   "source": [
    "knn = KNeighborsClassifier(n_neighbors=120, n_jobs=-1)\n",
    "knn.fit(train1_scaled, train_labels)\n",
    "predicted_labels = knn.predict(test1_scaled)\n",
    "\n",
    "\n",
    "predicted_last = [0]*len(test_names)\n",
    "for i in range(len(test_names)):\n",
    "    predicted_last[i] = names[int(predicted_labels[i])]\n",
    "\n",
    "with open('submission_baseline_pca_300_norm.csv', mode='w') as submission:\n",
    "    submission_writer = csv.writer(submission, delimiter=',')\n",
    "    submission_writer.writerow([\"FileName\",\"Class\"])\n",
    "    \n",
    "    for i in range(len(test_names)):\n",
    "        submission_writer.writerow([test_names[i], predicted_last[i]])"
   ]
  }
 ],
 "metadata": {
  "interpreter": {
   "hash": "d88a76ab6370ecc75972e9b317bd0eac4389d28241f69fa7f9a5bfb7fe1e7e4a"
  },
  "kernelspec": {
   "display_name": "Python 3.9.10 64-bit ('th': conda)",
   "language": "python",
   "name": "python3"
  },
  "language_info": {
   "codemirror_mode": {
    "name": "ipython",
    "version": 3
   },
   "file_extension": ".py",
   "mimetype": "text/x-python",
   "name": "python",
   "nbconvert_exporter": "python",
   "pygments_lexer": "ipython3",
   "version": "3.9.10"
  },
  "orig_nbformat": 4
 },
 "nbformat": 4,
 "nbformat_minor": 2
}
