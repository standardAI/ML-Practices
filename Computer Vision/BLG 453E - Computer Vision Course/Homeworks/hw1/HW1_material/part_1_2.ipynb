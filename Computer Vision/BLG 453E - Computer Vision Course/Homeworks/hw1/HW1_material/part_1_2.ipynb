{
 "cells": [
  {
   "cell_type": "markdown",
   "id": "77070578",
   "metadata": {},
   "source": [
    "BLG 453E - Computer Vision - Homework 1<br>Muhammed Tolga Cangöz - 150130024"
   ]
  },
  {
   "cell_type": "code",
   "execution_count": 1,
   "id": "1f922f95-048d-4f49-9d37-cd152af1ddac",
   "metadata": {},
   "outputs": [
    {
     "name": "stdout",
     "output_type": "stream",
     "text": [
      "pygame 2.0.3 (SDL 2.0.16, Python 3.9.7)\n",
      "Hello from the pygame community. https://www.pygame.org/contribute.html\n"
     ]
    }
   ],
   "source": [
    "import numpy as np\n",
    "import os\n",
    "import cv2\n",
    "import moviepy.editor as mpy"
   ]
  },
  {
   "cell_type": "code",
   "execution_count": 2,
   "id": "4ac02641-f514-4e77-89cc-d7593dabd4ed",
   "metadata": {
    "tags": []
   },
   "outputs": [],
   "source": [
    "background = cv2.imread('Malibu.jpg')"
   ]
  },
  {
   "cell_type": "code",
   "execution_count": 3,
   "id": "3624ad91",
   "metadata": {},
   "outputs": [
    {
     "data": {
      "text/plain": [
       "(776, 1998, 3)"
      ]
     },
     "execution_count": 3,
     "metadata": {},
     "output_type": "execute_result"
    }
   ],
   "source": [
    "background.shape"
   ]
  },
  {
   "cell_type": "code",
   "execution_count": 4,
   "id": "956548c4-0d07-49c5-a43d-33255e562d51",
   "metadata": {
    "jupyter": {
     "outputs_hidden": true
    },
    "tags": []
   },
   "outputs": [
    {
     "data": {
      "text/plain": [
       "(360, 926, 3)"
      ]
     },
     "execution_count": 4,
     "metadata": {},
     "output_type": "execute_result"
    }
   ],
   "source": [
    "background_height = background.shape[0]\n",
    "background_width = background.shape[1]\n",
    "ratio = 360/background_height\n",
    "\n",
    "background = cv2.resize(background, (int(background_width*ratio), 360))\n",
    "\n",
    "background.shape"
   ]
  },
  {
   "cell_type": "markdown",
   "id": "26d1a1da",
   "metadata": {},
   "source": [
    "PART 1"
   ]
  },
  {
   "cell_type": "code",
   "execution_count": 5,
   "id": "7f21c94b",
   "metadata": {},
   "outputs": [],
   "source": [
    "images_list = []\n",
    "\n",
    "for i in range(180):\n",
    "    cat = cv2.imread('cat/cat_' + str(i) + '.png')\n",
    "    cat_right = cv2.flip(cat, 1)\n",
    "    foreground_left = np.logical_or(cat[:,:,1] < 180, cat[:,:,0] > 150)\n",
    "    foreground_right = np.logical_or(cat_right[:,:,1] < 180, cat_right[:,:,0] > 150)\n",
    "    nonzero_x_left, nonzero_y_left = np.nonzero(foreground_left)\n",
    "    nonzero_x_right, nonzero_y_right = np.nonzero(foreground_right)\n",
    "    nonzero_cat_values_left = cat[nonzero_x_left, nonzero_y_left, :]\n",
    "    nonzero_cat_values_right = cat_right[nonzero_x_right, nonzero_y_right, :]\n",
    "    new_frame = background.copy()\n",
    "    new_frame[nonzero_x_left, nonzero_y_left, :] = nonzero_cat_values_left\n",
    "    new_frame[nonzero_x_right, nonzero_y_right+background.shape[1]-cat.shape[1], :] = nonzero_cat_values_right\n",
    "    new_frame = new_frame[:,:,[2,1,0]]\n",
    "    images_list.append(new_frame)"
   ]
  },
  {
   "cell_type": "code",
   "execution_count": 6,
   "id": "d33efdc4",
   "metadata": {},
   "outputs": [
    {
     "name": "stdout",
     "output_type": "stream",
     "text": [
      "Moviepy - Building video part1_video.mp4.\n",
      "MoviePy - Writing audio in part1_videoTEMP_MPY_wvf_snd.mp3\n"
     ]
    },
    {
     "name": "stderr",
     "output_type": "stream",
     "text": []
    },
    {
     "name": "stdout",
     "output_type": "stream",
     "text": [
      "MoviePy - Done.\n",
      "Moviepy - Writing video part1_video.mp4\n",
      "\n"
     ]
    },
    {
     "name": "stderr",
     "output_type": "stream",
     "text": []
    },
    {
     "name": "stdout",
     "output_type": "stream",
     "text": [
      "Moviepy - Done !\n",
      "Moviepy - video ready part1_video.mp4\n"
     ]
    }
   ],
   "source": [
    "clip = mpy.ImageSequenceClip(images_list, fps=25)\n",
    "audio = mpy.AudioFileClip('selfcontrol_part.wav').set_duration(clip.duration)\n",
    "clip_final = clip.set_audio(audio)\n",
    "clip_final.write_videofile('part1_video.mp4', codec=\"libx264\")"
   ]
  },
  {
   "cell_type": "code",
   "execution_count": null,
   "id": "231515c7",
   "metadata": {},
   "outputs": [],
   "source": []
  },
  {
   "cell_type": "markdown",
   "id": "5dc816fb",
   "metadata": {},
   "source": [
    "PART 2"
   ]
  },
  {
   "cell_type": "code",
   "execution_count": 14,
   "id": "d6b0ec03",
   "metadata": {},
   "outputs": [],
   "source": [
    "bins = 256\n",
    "histogram_total_0, histogram_total_1, histogram_total_2 = np.zeros(bins), np.zeros(bins), np.zeros(bins)"
   ]
  },
  {
   "cell_type": "code",
   "execution_count": 15,
   "id": "c8d21cc2",
   "metadata": {},
   "outputs": [],
   "source": [
    "for i in range(180):\n",
    "\n",
    "    cat = cv2.imread('cat/cat_' + str(i) + '.png')\n",
    "\n",
    "    cat_right = cv2.flip(cat, 1)\n",
    "    #foreground_left = np.logical_or(cat[:,:,1] < 180, cat[:,:,0] > 150)\n",
    "    foreground_right = np.logical_or(cat_right[:,:,1] < 180, cat_right[:,:,0] > 150)\n",
    "    #nonzero_x_left, nonzero_y_left = np.nonzero(foreground_left)\n",
    "    nonzero_x_right, nonzero_y_right = np.nonzero(foreground_right)\n",
    "    #nonzero_cat_values_left = cat[nonzero_x_left, nonzero_y_left, :]\n",
    "    nonzero_cat_values_right = cat_right[nonzero_x_right, nonzero_y_right, :]\n",
    "\n",
    "    histogram_cat_0, bin_edges_cat_0 = np.histogram(nonzero_cat_values_right[:,0], bins=bins)\n",
    "    histogram_cat_1, bin_edges_cat_1 = np.histogram(nonzero_cat_values_right[:,1], bins=bins)\n",
    "    histogram_cat_2, bin_edges_cat_2 = np.histogram(nonzero_cat_values_right[:,2], bins=bins)\n",
    "    \n",
    "    histogram_total_0 += histogram_cat_0\n",
    "    histogram_total_1 += histogram_cat_1\n",
    "    histogram_total_2 += histogram_cat_2"
   ]
  },
  {
   "cell_type": "code",
   "execution_count": 16,
   "id": "4e1d3e8c",
   "metadata": {},
   "outputs": [],
   "source": [
    "histogram_average_0 = histogram_total_0 / 180.0\n",
    "histogram_average_1 = histogram_total_1 / 180.0\n",
    "histogram_average_2 = histogram_total_2 / 180.0"
   ]
  },
  {
   "cell_type": "code",
   "execution_count": 17,
   "id": "29365766",
   "metadata": {},
   "outputs": [],
   "source": [
    "target_image = cv2.imread('target_image.jpeg')\n",
    "target_image = cv2.resize(target_image, (418, 225))"
   ]
  },
  {
   "cell_type": "code",
   "execution_count": 18,
   "id": "6ed97190",
   "metadata": {},
   "outputs": [],
   "source": [
    "histogram_target_0, bin_edges_target_0 = np.histogram(target_image[:,:,0].flatten(), bins=bins)\n",
    "histogram_target_1, bin_edges_target_1 = np.histogram(target_image[:,:,1].flatten(), bins=bins)\n",
    "histogram_target_2, bin_edges_target_2 = np.histogram(target_image[:,:,2].flatten(), bins=bins)"
   ]
  },
  {
   "cell_type": "code",
   "execution_count": 19,
   "id": "312a9daa",
   "metadata": {},
   "outputs": [],
   "source": [
    "histogram_cat_equalized_0 = np.zeros_like(histogram_average_0)\n",
    "histogram_cat_equalized_0[0] = histogram_average_0[0]\n",
    "for i in range(histogram_average_0.shape[0]-1):\n",
    "    histogram_cat_equalized_0[i+1] = histogram_cat_equalized_0[i] + histogram_average_0[i+1]\n",
    "\n",
    "#histogram_cat_equalized"
   ]
  },
  {
   "cell_type": "code",
   "execution_count": 20,
   "id": "c8eac15d",
   "metadata": {},
   "outputs": [],
   "source": [
    "histogram_cat_equalized_1 = np.zeros_like(histogram_average_1)\n",
    "histogram_cat_equalized_1[0] = histogram_average_1[0]\n",
    "for i in range(histogram_average_1.shape[0]-1):\n",
    "    histogram_cat_equalized_1[i+1] = histogram_cat_equalized_1[i] + histogram_average_1[i+1]\n",
    "\n",
    "#histogram_cat_equalized"
   ]
  },
  {
   "cell_type": "code",
   "execution_count": 21,
   "id": "02f3dbae",
   "metadata": {},
   "outputs": [],
   "source": [
    "histogram_cat_equalized_2 = np.zeros_like(histogram_average_2)\n",
    "histogram_cat_equalized_2[0] = histogram_average_2[0]\n",
    "for i in range(histogram_average_2.shape[0]-1):\n",
    "    histogram_cat_equalized_2[i+1] = histogram_cat_equalized_2[i] + histogram_average_2[i+1]\n",
    "\n",
    "#histogram_cat_equalized"
   ]
  },
  {
   "cell_type": "code",
   "execution_count": 22,
   "id": "ea4b1d02",
   "metadata": {
    "scrolled": true
   },
   "outputs": [],
   "source": [
    "histogram_target_equalized_0 = np.zeros_like(histogram_target_0)\n",
    "histogram_target_equalized_0[0] = histogram_target_0[0]\n",
    "for i in range(histogram_target_0.shape[0]-1):\n",
    "    histogram_target_equalized_0[i+1] = histogram_target_equalized_0[i] + histogram_target_0[i+1]\n",
    "\n",
    "#histogram_target_equalized"
   ]
  },
  {
   "cell_type": "code",
   "execution_count": 23,
   "id": "77ca6333",
   "metadata": {},
   "outputs": [],
   "source": [
    "histogram_target_equalized_1 = np.zeros_like(histogram_target_1)\n",
    "histogram_target_equalized_1[0] = histogram_target_1[0]\n",
    "for i in range(histogram_target_1.shape[0]-1):\n",
    "    histogram_target_equalized_1[i+1] = histogram_target_equalized_1[i] + histogram_target_1[i+1]\n",
    "\n",
    "#histogram_target_equalized"
   ]
  },
  {
   "cell_type": "code",
   "execution_count": 24,
   "id": "db13c9ff",
   "metadata": {},
   "outputs": [],
   "source": [
    "histogram_target_equalized_2 = np.zeros_like(histogram_target_2)\n",
    "histogram_target_equalized_2[0] = histogram_target_2[0]\n",
    "for i in range(histogram_target_2.shape[0]-1):\n",
    "    histogram_target_equalized_2[i+1] = histogram_target_equalized_2[i] + histogram_target_2[i+1]\n",
    "\n",
    "#histogram_target_equalized"
   ]
  },
  {
   "cell_type": "code",
   "execution_count": 28,
   "id": "0fa4477b",
   "metadata": {},
   "outputs": [
    {
     "ename": "SyntaxError",
     "evalue": "invalid syntax (329740445.py, line 1)",
     "output_type": "error",
     "traceback": [
      "\u001b[0;36m  File \u001b[0;32m\"/tmp/ipykernel_18920/329740445.py\"\u001b[0;36m, line \u001b[0;32m1\u001b[0m\n\u001b[0;31m    LASTED 9 HOURS, STORED images_list CAN BE FOUND BELOW\u001b[0m\n\u001b[0m           ^\u001b[0m\n\u001b[0;31mSyntaxError\u001b[0m\u001b[0;31m:\u001b[0m invalid syntax\n"
     ]
    }
   ],
   "source": [
    "Lasted 9 hours, stored images_list can be downloaded from here: https://drive.google.com/file/d/1wHI5inEwBIssyT6kPMz0UjZEuTfrthxu/view?usp=sharing\n",
    "\n",
    "from tqdm import tqdm\n",
    "images_list = []\n",
    "\n",
    "for i in tqdm(range(180)):\n",
    "    cat = cv2.imread('cat/cat_' + str(i) + '.png')\n",
    "    cat_right = cv2.flip(cat, 1)\n",
    "    foreground_left = np.logical_or(cat[:,:,1] < 180, cat[:,:,0] > 150)\n",
    "    foreground_right = np.logical_or(cat_right[:,:,1] < 180, cat_right[:,:,0] > 150)\n",
    "    nonzero_x_left, nonzero_y_left = np.nonzero(foreground_left)\n",
    "    nonzero_x_right, nonzero_y_right = np.nonzero(foreground_right)\n",
    "    nonzero_cat_values_left = cat[nonzero_x_left, nonzero_y_left, :]\n",
    "    nonzero_cat_values_right = cat_right[nonzero_x_right, nonzero_y_right, :]\n",
    "    new_frame = background.copy()\n",
    "    new_frame[nonzero_x_left, nonzero_y_left, :] = nonzero_cat_values_left\n",
    "    \n",
    "    cat_modified_0 = np.zeros_like(nonzero_cat_values_right[:,0])\n",
    "    cat_right_flatten_0 = nonzero_cat_values_right[:,0].flatten()\n",
    "    for i in range(cat_modified_0.shape[0]):\n",
    "        for j in histogram_target_equalized_0:\n",
    "            if j >= histogram_cat_equalized_0[cat_right_flatten_0[i] % histogram_cat_equalized_0.shape[0]]:\n",
    "                cat_modified_0[i] = min(np.where(histogram_target_equalized_0 == j)[0])\n",
    "                break\n",
    "    \n",
    "    cat_modified_1 = np.zeros_like(nonzero_cat_values_right[:,1])\n",
    "    cat_right_flatten_1 = nonzero_cat_values_right[:,1].flatten()\n",
    "    for i in range(cat_modified_1.shape[0]):\n",
    "        for j in histogram_target_equalized_1:\n",
    "            if j >= histogram_cat_equalized_1[cat_right_flatten_1[i] % histogram_cat_equalized_1.shape[0]]:\n",
    "                cat_modified_1[i] = min(np.where(histogram_target_equalized_1 == j)[0])\n",
    "                break\n",
    "    \n",
    "    cat_modified_2 = np.zeros_like(nonzero_cat_values_right[:,2])\n",
    "    cat_right_flatten_2 = nonzero_cat_values_right[:,2].flatten()\n",
    "    for i in range(cat_modified_2.shape[0]):\n",
    "        for j in histogram_target_equalized_2:\n",
    "            if j >= histogram_cat_equalized_2[cat_right_flatten_2[i] % histogram_cat_equalized_2.shape[0]]:\n",
    "                cat_modified_2[i] = min(np.where(histogram_target_equalized_2 == j)[0])\n",
    "                break\n",
    "    \n",
    "    cat_modified = np.zeros_like(nonzero_cat_values_right)\n",
    "    cat_modified[:,0] = cat_modified_0\n",
    "    cat_modified[:,1] = cat_modified_1\n",
    "    cat_modified[:,2] = cat_modified_2\n",
    "    \n",
    "    new_frame[nonzero_x_right, nonzero_y_right+background.shape[1]-cat.shape[1], :] = cat_modified\n",
    "    \n",
    "    new_frame = new_frame[:,:,[2,1,0]]\n",
    "    images_list.append(new_frame)"
   ]
  },
  {
   "cell_type": "code",
   "execution_count": 25,
   "id": "7d8c794f",
   "metadata": {},
   "outputs": [],
   "source": [
    "import pickle\n",
    "\n",
    "#with open(\"images_list.txt\", \"wb\") as fp:\n",
    "#    pickle.dump(images_list, fp)\n",
    "\n",
    "with open(\"images_list.txt\", \"rb\") as fp:\n",
    "    b = pickle.load(fp)"
   ]
  },
  {
   "cell_type": "code",
   "execution_count": 27,
   "id": "f30f3cf0",
   "metadata": {},
   "outputs": [
    {
     "name": "stdout",
     "output_type": "stream",
     "text": [
      "Moviepy - Building video part3.mp4.\n",
      "MoviePy - Writing audio in part3TEMP_MPY_wvf_snd.mp3\n"
     ]
    },
    {
     "name": "stderr",
     "output_type": "stream",
     "text": []
    },
    {
     "name": "stdout",
     "output_type": "stream",
     "text": [
      "MoviePy - Done.\n",
      "Moviepy - Writing video part3.mp4\n",
      "\n"
     ]
    },
    {
     "name": "stderr",
     "output_type": "stream",
     "text": []
    },
    {
     "name": "stdout",
     "output_type": "stream",
     "text": [
      "Moviepy - Done !\n",
      "Moviepy - video ready part3.mp4\n"
     ]
    }
   ],
   "source": [
    "clip = mpy.ImageSequenceClip(b, fps=25)\n",
    "audio = mpy.AudioFileClip('selfcontrol_part.wav').set_duration(clip.duration)\n",
    "clip_final = clip.set_audio(audio)\n",
    "clip_final.write_videofile('part3.mp4', codec=\"libx264\")"
   ]
  }
 ],
 "metadata": {
  "interpreter": {
   "hash": "ded493e77ac558c5a79f920bf5303ffe5196fd5a596f10e0f3cd289e09f67573"
  },
  "kernelspec": {
   "display_name": "pt",
   "language": "python",
   "name": "python3"
  },
  "language_info": {
   "codemirror_mode": {
    "name": "ipython",
    "version": 3
   },
   "file_extension": ".py",
   "mimetype": "text/x-python",
   "name": "python",
   "nbconvert_exporter": "python",
   "pygments_lexer": "ipython3",
   "version": "3.9.7"
  }
 },
 "nbformat": 4,
 "nbformat_minor": 5
}
