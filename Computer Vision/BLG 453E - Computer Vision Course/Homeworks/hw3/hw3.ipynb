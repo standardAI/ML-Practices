{
 "cells": [
  {
   "cell_type": "markdown",
   "metadata": {},
   "source": [
    "BLG 453E - Computer Vision Homework 3<br>\n",
    "Muhammed Tolga Cangöz - 150130024"
   ]
  },
  {
   "cell_type": "code",
   "execution_count": 2,
   "metadata": {},
   "outputs": [],
   "source": [
    "import cv2\n",
    "import matplotlib.pyplot as plt\n",
    "import os\n",
    "import scipy.io\n",
    "import numpy as np"
   ]
  },
  {
   "cell_type": "code",
   "execution_count": 13,
   "metadata": {},
   "outputs": [],
   "source": [
    "average_precision = 0\n",
    "\n",
    "for i in os.listdir('/home/mtc/Desktop/Lecture Notes/BLG 453E/Homeworks/hw3/BSR_full/BSR/BSDS500/data/groundTruth/test/'):\n",
    "    mat = scipy.io.loadmat(os.path.join('/home/mtc/Desktop/Lecture Notes/BLG 453E/Homeworks/hw3/BSR_full/BSR/BSDS500/data/groundTruth/test/', i))\n",
    "    image = plt.imread(os.path.join('/home/mtc/Desktop/Lecture Notes/BLG 453E/Homeworks/hw3/BSR_full/BSR/BSDS500/data/images/test/', i[:-4] + '.jpg'))\n",
    "    \n",
    "    for j in mat['groundTruth'][0][1:]:\n",
    "        mat['groundTruth'][0][0][0][0][1] += j[0][0][1]\n",
    "    \n",
    "    imgBlur = cv2.GaussianBlur(image, (5, 5), 0)\n",
    "    imgCanny = cv2.Canny(imgBlur, 30, 150)\n",
    "    imgCanny[imgCanny == 255] = 1\n",
    "    #mat['groundTruth'][0][0][0][0][1][mat['groundTruth'][0][0][0][0][1] > 0] = 1\n",
    "    #plt.imsave('/home/mtc/Desktop/Lecture Notes/BLG 453E/Homeworks/hw3/part1_results/' + i[:-4] + '.jpg', imgCanny)\n",
    "        \n",
    "    average_precision += np.sum(mat['groundTruth'][0][0][0][0][1] == imgCanny)/(imgCanny.shape[0]*imgCanny.shape[1])*100/200\n",
    "    "
   ]
  },
  {
   "cell_type": "code",
   "execution_count": 15,
   "metadata": {},
   "outputs": [
    {
     "data": {
      "text/plain": [
       "6"
      ]
     },
     "execution_count": 15,
     "metadata": {},
     "output_type": "execute_result"
    }
   ],
   "source": [
    "mat['groundTruth'][0][0][0][0][1].max()"
   ]
  },
  {
   "cell_type": "code",
   "execution_count": 14,
   "metadata": {},
   "outputs": [
    {
     "data": {
      "text/plain": [
       "84.7124727171456"
      ]
     },
     "execution_count": 14,
     "metadata": {},
     "output_type": "execute_result"
    }
   ],
   "source": [
    "average_precision"
   ]
  },
  {
   "cell_type": "code",
   "execution_count": 5,
   "metadata": {},
   "outputs": [],
   "source": [
    "average_precision = 0\n",
    "\n",
    "for i in os.listdir('/home/mtc/Desktop/Lecture Notes/BLG 453E/Homeworks/hw3/BSR_full/BSR/BSDS500/data/groundTruth/test/'):\n",
    "    mat = scipy.io.loadmat(os.path.join('/home/mtc/Desktop/Lecture Notes/BLG 453E/Homeworks/hw3/BSR_full/BSR/BSDS500/data/groundTruth/test/', i))\n",
    "    neuralNetResult = plt.imread(os.path.join('/home/mtc/Desktop/Lecture Notes/BLG 453E/Homeworks/hw3/CATS/output/bsds/test/sing_scale_test', i[:-4] + '.png'))\n",
    "    \n",
    "    for j in mat['groundTruth'][0][1:]:\n",
    "        mat['groundTruth'][0][0][0][0][1] += j[0][0][1]\n",
    "    \n",
    "    neuralNetResult[neuralNetResult <= 128] = 0\n",
    "    neuralNetResult[neuralNetResult > 128] = 1\n",
    "    mat['groundTruth'][0][0][0][0][1][mat['groundTruth'][0][0][0][0][1] > 0] = 1\n",
    "        \n",
    "    average_precision += np.sum(mat['groundTruth'][0][0][0][0][1] == neuralNetResult)/(neuralNetResult.shape[0]*neuralNetResult.shape[1])*100/200\n",
    "    "
   ]
  },
  {
   "cell_type": "code",
   "execution_count": 6,
   "metadata": {},
   "outputs": [
    {
     "data": {
      "text/plain": [
       "93.36657469835048"
      ]
     },
     "execution_count": 6,
     "metadata": {},
     "output_type": "execute_result"
    }
   ],
   "source": [
    "average_precision"
   ]
  }
 ],
 "metadata": {
  "interpreter": {
   "hash": "9363fe77874c5834525076c0c0e6900cfa9f2ee6efc1919e6b782cd52b44db4d"
  },
  "kernelspec": {
   "display_name": "Python 3.7.12 64-bit ('th': conda)",
   "language": "python",
   "name": "python3"
  },
  "language_info": {
   "codemirror_mode": {
    "name": "ipython",
    "version": 3
   },
   "file_extension": ".py",
   "mimetype": "text/x-python",
   "name": "python",
   "nbconvert_exporter": "python",
   "pygments_lexer": "ipython3",
   "version": "3.7.12"
  },
  "orig_nbformat": 4
 },
 "nbformat": 4,
 "nbformat_minor": 2
}
